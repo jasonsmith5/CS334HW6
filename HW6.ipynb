{
 "cells": [
  {
   "cell_type": "code",
   "execution_count": 64,
   "metadata": {},
   "outputs": [],
   "source": [
    "%matplotlib inline\n",
    "import numpy as np\n",
    "import pandas as pd\n",
    "from sklearn.model_selection import train_test_split\n",
    "import seaborn as sns\n",
    "from treelib import Node, Tree"
   ]
  },
  {
   "cell_type": "code",
   "execution_count": 2,
   "metadata": {},
   "outputs": [],
   "source": [
    "data=pd.read_csv(\"house-votes-84.csv\")"
   ]
  },
  {
   "cell_type": "code",
   "execution_count": 3,
   "metadata": {},
   "outputs": [],
   "source": [
    "originalColumnNames=list(data.columns)"
   ]
  },
  {
   "cell_type": "markdown",
   "metadata": {},
   "source": [
    "#### Rename Columns"
   ]
  },
  {
   "cell_type": "code",
   "execution_count": 4,
   "metadata": {},
   "outputs": [],
   "source": [
    "Columns={}\n",
    "index=0\n",
    "for col in list(data.columns):\n",
    "    Columns[col]=\"f\"+str(index)\n",
    "    index+=1"
   ]
  },
  {
   "cell_type": "code",
   "execution_count": 5,
   "metadata": {},
   "outputs": [],
   "source": [
    "data=data.rename(columns=Columns)"
   ]
  },
  {
   "cell_type": "markdown",
   "metadata": {},
   "source": [
    "#### Add label column"
   ]
  },
  {
   "cell_type": "code",
   "execution_count": 7,
   "metadata": {},
   "outputs": [],
   "source": [
    "def getLabel(Class):\n",
    "    if Class==\"democrat\":\n",
    "        return 1\n",
    "    else:\n",
    "        return 0"
   ]
  },
  {
   "cell_type": "code",
   "execution_count": 8,
   "metadata": {},
   "outputs": [],
   "source": [
    "data[\"Label\"]=data.f0.apply(lambda x: getLabel(x))"
   ]
  },
  {
   "cell_type": "code",
   "execution_count": 9,
   "metadata": {},
   "outputs": [],
   "source": [
    "data=data.drop([\"f0\"], axis=1)"
   ]
  },
  {
   "cell_type": "markdown",
   "metadata": {},
   "source": [
    "### An Interesting Imputation Problem\n",
    "\n",
    "The data set has many question marks, apparently when the congressmember did not vote on a particular bill.  Due to time constraints I chose to replace \"?\" with the majority vote within the party that a particular congressmember resides.\n",
    "\n",
    "I do not think that this is the best possible imputation strategy, since there are some bills that do not have a strict party line vote.  A good example of this is the mx-missle bill."
   ]
  },
  {
   "cell_type": "code",
   "execution_count": 121,
   "metadata": {},
   "outputs": [
    {
     "name": "stdout",
     "output_type": "stream",
     "text": [
      " mx-missile\n",
      "repubs\n",
      "y    95\n",
      "n    73\n",
      "Name: f10, dtype: int64\n",
      "dems\n",
      "n    143\n",
      "y    124\n",
      "Name: f10, dtype: int64\n"
     ]
    }
   ],
   "source": [
    "print(originalColumnNames[9])\n",
    "print(\"repubs\")\n",
    "print(republicans[\"f10\"].value_counts())\n",
    "print(\"dems\")\n",
    "print(democrats[\"f10\"].value_counts())"
   ]
  },
  {
   "cell_type": "markdown",
   "metadata": {},
   "source": [
    "Another interesting problem is how to efficiently implement this imputation strategy.  The method employed here is worst case and also a product of time constraints."
   ]
  },
  {
   "cell_type": "code",
   "execution_count": 11,
   "metadata": {},
   "outputs": [],
   "source": [
    "republicans=data[data[\"Label\"]==0]\n",
    "democrats=data[data[\"Label\"]==1]"
   ]
  },
  {
   "cell_type": "code",
   "execution_count": 12,
   "metadata": {},
   "outputs": [],
   "source": [
    "def majorityVote(colName, classLabel):\n",
    "    yes=len(data[(data[colName]==\"y\") & (data[\"Label\"]==classLabel)])\n",
    "    no=len(data[(data[colName]==\"n\") & (data[\"Label\"]==classLabel)])\n",
    "    if yes >= no:\n",
    "        return \"y\"\n",
    "    else:\n",
    "        return \"n\""
   ]
  },
  {
   "cell_type": "code",
   "execution_count": 13,
   "metadata": {},
   "outputs": [],
   "source": [
    "def fixQMark(value, colName, classLabel):\n",
    "    if value==\"?\":\n",
    "        return majorityVote(colName, classLabel)\n",
    "    else:\n",
    "        return value"
   ]
  },
  {
   "cell_type": "markdown",
   "metadata": {},
   "source": [
    "I tried for about an hour to write a loop to iteratively impute the majority vote into all question marks.  Eventually, I settled on the brute force method."
   ]
  },
  {
   "cell_type": "code",
   "execution_count": 16,
   "metadata": {},
   "outputs": [
    {
     "name": "stderr",
     "output_type": "stream",
     "text": [
      "<ipython-input-16-e31660557eaa>:1: SettingWithCopyWarning: \n",
      "A value is trying to be set on a copy of a slice from a DataFrame.\n",
      "Try using .loc[row_indexer,col_indexer] = value instead\n",
      "\n",
      "See the caveats in the documentation: https://pandas.pydata.org/pandas-docs/stable/user_guide/indexing.html#returning-a-view-versus-a-copy\n",
      "  democrats[\"f1\"]=democrats.f1.apply(lambda x: fixQMark(x,\"f1\",1))\n"
     ]
    }
   ],
   "source": [
    "democrats[\"f1\"]=democrats.f1.apply(lambda x: fixQMark(x,\"f1\",1))"
   ]
  },
  {
   "cell_type": "code",
   "execution_count": 17,
   "metadata": {},
   "outputs": [
    {
     "name": "stderr",
     "output_type": "stream",
     "text": [
      "<ipython-input-17-a0eaecde054d>:1: SettingWithCopyWarning: \n",
      "A value is trying to be set on a copy of a slice from a DataFrame.\n",
      "Try using .loc[row_indexer,col_indexer] = value instead\n",
      "\n",
      "See the caveats in the documentation: https://pandas.pydata.org/pandas-docs/stable/user_guide/indexing.html#returning-a-view-versus-a-copy\n",
      "  democrats[\"f2\"]=democrats.f2.apply(lambda x: fixQMark(x,\"f2\",1))\n"
     ]
    }
   ],
   "source": [
    "democrats[\"f2\"]=democrats.f2.apply(lambda x: fixQMark(x,\"f2\",1))"
   ]
  },
  {
   "cell_type": "code",
   "execution_count": 18,
   "metadata": {},
   "outputs": [
    {
     "name": "stderr",
     "output_type": "stream",
     "text": [
      "<ipython-input-18-748b479be083>:1: SettingWithCopyWarning: \n",
      "A value is trying to be set on a copy of a slice from a DataFrame.\n",
      "Try using .loc[row_indexer,col_indexer] = value instead\n",
      "\n",
      "See the caveats in the documentation: https://pandas.pydata.org/pandas-docs/stable/user_guide/indexing.html#returning-a-view-versus-a-copy\n",
      "  democrats[\"f3\"]=democrats.f3.apply(lambda x: fixQMark(x,\"f3\",1))\n"
     ]
    }
   ],
   "source": [
    "democrats[\"f3\"]=democrats.f3.apply(lambda x: fixQMark(x,\"f3\",1))"
   ]
  },
  {
   "cell_type": "code",
   "execution_count": 19,
   "metadata": {},
   "outputs": [
    {
     "name": "stderr",
     "output_type": "stream",
     "text": [
      "<ipython-input-19-8ed543c7f3f4>:1: SettingWithCopyWarning: \n",
      "A value is trying to be set on a copy of a slice from a DataFrame.\n",
      "Try using .loc[row_indexer,col_indexer] = value instead\n",
      "\n",
      "See the caveats in the documentation: https://pandas.pydata.org/pandas-docs/stable/user_guide/indexing.html#returning-a-view-versus-a-copy\n",
      "  democrats[\"f4\"]=democrats.f4.apply(lambda x: fixQMark(x,\"f4\",1))\n"
     ]
    }
   ],
   "source": [
    "democrats[\"f4\"]=democrats.f4.apply(lambda x: fixQMark(x,\"f4\",1))"
   ]
  },
  {
   "cell_type": "code",
   "execution_count": 20,
   "metadata": {},
   "outputs": [
    {
     "name": "stderr",
     "output_type": "stream",
     "text": [
      "<ipython-input-20-0cce43996513>:1: SettingWithCopyWarning: \n",
      "A value is trying to be set on a copy of a slice from a DataFrame.\n",
      "Try using .loc[row_indexer,col_indexer] = value instead\n",
      "\n",
      "See the caveats in the documentation: https://pandas.pydata.org/pandas-docs/stable/user_guide/indexing.html#returning-a-view-versus-a-copy\n",
      "  democrats[\"f5\"]=democrats.f5.apply(lambda x: fixQMark(x,\"f5\",1))\n"
     ]
    }
   ],
   "source": [
    "democrats[\"f5\"]=democrats.f5.apply(lambda x: fixQMark(x,\"f5\",1))"
   ]
  },
  {
   "cell_type": "code",
   "execution_count": 21,
   "metadata": {},
   "outputs": [
    {
     "name": "stderr",
     "output_type": "stream",
     "text": [
      "<ipython-input-21-760bbb6feec5>:1: SettingWithCopyWarning: \n",
      "A value is trying to be set on a copy of a slice from a DataFrame.\n",
      "Try using .loc[row_indexer,col_indexer] = value instead\n",
      "\n",
      "See the caveats in the documentation: https://pandas.pydata.org/pandas-docs/stable/user_guide/indexing.html#returning-a-view-versus-a-copy\n",
      "  democrats[\"f6\"]=democrats.f6.apply(lambda x: fixQMark(x,\"f6\",1))\n"
     ]
    }
   ],
   "source": [
    "democrats[\"f6\"]=democrats.f6.apply(lambda x: fixQMark(x,\"f6\",1))"
   ]
  },
  {
   "cell_type": "code",
   "execution_count": 22,
   "metadata": {},
   "outputs": [
    {
     "name": "stderr",
     "output_type": "stream",
     "text": [
      "<ipython-input-22-faf3df19f4f8>:1: SettingWithCopyWarning: \n",
      "A value is trying to be set on a copy of a slice from a DataFrame.\n",
      "Try using .loc[row_indexer,col_indexer] = value instead\n",
      "\n",
      "See the caveats in the documentation: https://pandas.pydata.org/pandas-docs/stable/user_guide/indexing.html#returning-a-view-versus-a-copy\n",
      "  democrats[\"f7\"]=democrats.f7.apply(lambda x: fixQMark(x,\"f7\",1))\n"
     ]
    }
   ],
   "source": [
    "democrats[\"f7\"]=democrats.f7.apply(lambda x: fixQMark(x,\"f7\",1))"
   ]
  },
  {
   "cell_type": "code",
   "execution_count": 23,
   "metadata": {},
   "outputs": [
    {
     "name": "stderr",
     "output_type": "stream",
     "text": [
      "<ipython-input-23-1ee92386b9f6>:1: SettingWithCopyWarning: \n",
      "A value is trying to be set on a copy of a slice from a DataFrame.\n",
      "Try using .loc[row_indexer,col_indexer] = value instead\n",
      "\n",
      "See the caveats in the documentation: https://pandas.pydata.org/pandas-docs/stable/user_guide/indexing.html#returning-a-view-versus-a-copy\n",
      "  democrats[\"f8\"]=democrats.f8.apply(lambda x: fixQMark(x,\"f8\",1))\n"
     ]
    }
   ],
   "source": [
    "democrats[\"f8\"]=democrats.f8.apply(lambda x: fixQMark(x,\"f8\",1))"
   ]
  },
  {
   "cell_type": "code",
   "execution_count": 24,
   "metadata": {},
   "outputs": [
    {
     "name": "stderr",
     "output_type": "stream",
     "text": [
      "<ipython-input-24-b3b7f50168ce>:1: SettingWithCopyWarning: \n",
      "A value is trying to be set on a copy of a slice from a DataFrame.\n",
      "Try using .loc[row_indexer,col_indexer] = value instead\n",
      "\n",
      "See the caveats in the documentation: https://pandas.pydata.org/pandas-docs/stable/user_guide/indexing.html#returning-a-view-versus-a-copy\n",
      "  democrats[\"f9\"]=democrats.f9.apply(lambda x: fixQMark(x,\"f9\",1))\n"
     ]
    }
   ],
   "source": [
    "democrats[\"f9\"]=democrats.f9.apply(lambda x: fixQMark(x,\"f9\",1))"
   ]
  },
  {
   "cell_type": "code",
   "execution_count": 25,
   "metadata": {},
   "outputs": [
    {
     "name": "stderr",
     "output_type": "stream",
     "text": [
      "<ipython-input-25-9550cf089e70>:1: SettingWithCopyWarning: \n",
      "A value is trying to be set on a copy of a slice from a DataFrame.\n",
      "Try using .loc[row_indexer,col_indexer] = value instead\n",
      "\n",
      "See the caveats in the documentation: https://pandas.pydata.org/pandas-docs/stable/user_guide/indexing.html#returning-a-view-versus-a-copy\n",
      "  democrats[\"f10\"]=democrats.f10.apply(lambda x: fixQMark(x,\"f10\",1))\n"
     ]
    }
   ],
   "source": [
    "democrats[\"f10\"]=democrats.f10.apply(lambda x: fixQMark(x,\"f10\",1))"
   ]
  },
  {
   "cell_type": "code",
   "execution_count": 26,
   "metadata": {},
   "outputs": [
    {
     "name": "stderr",
     "output_type": "stream",
     "text": [
      "<ipython-input-26-da3ce4407247>:1: SettingWithCopyWarning: \n",
      "A value is trying to be set on a copy of a slice from a DataFrame.\n",
      "Try using .loc[row_indexer,col_indexer] = value instead\n",
      "\n",
      "See the caveats in the documentation: https://pandas.pydata.org/pandas-docs/stable/user_guide/indexing.html#returning-a-view-versus-a-copy\n",
      "  democrats[\"f11\"]=democrats.f11.apply(lambda x: fixQMark(x,\"f11\",1))\n"
     ]
    }
   ],
   "source": [
    "democrats[\"f11\"]=democrats.f11.apply(lambda x: fixQMark(x,\"f11\",1))"
   ]
  },
  {
   "cell_type": "code",
   "execution_count": 27,
   "metadata": {},
   "outputs": [
    {
     "name": "stderr",
     "output_type": "stream",
     "text": [
      "<ipython-input-27-c18a259147f6>:1: SettingWithCopyWarning: \n",
      "A value is trying to be set on a copy of a slice from a DataFrame.\n",
      "Try using .loc[row_indexer,col_indexer] = value instead\n",
      "\n",
      "See the caveats in the documentation: https://pandas.pydata.org/pandas-docs/stable/user_guide/indexing.html#returning-a-view-versus-a-copy\n",
      "  democrats[\"f12\"]=democrats.f12.apply(lambda x: fixQMark(x,\"f12\",1))\n"
     ]
    }
   ],
   "source": [
    "democrats[\"f12\"]=democrats.f12.apply(lambda x: fixQMark(x,\"f12\",1))"
   ]
  },
  {
   "cell_type": "code",
   "execution_count": 28,
   "metadata": {},
   "outputs": [
    {
     "name": "stderr",
     "output_type": "stream",
     "text": [
      "<ipython-input-28-ac878813ebe0>:1: SettingWithCopyWarning: \n",
      "A value is trying to be set on a copy of a slice from a DataFrame.\n",
      "Try using .loc[row_indexer,col_indexer] = value instead\n",
      "\n",
      "See the caveats in the documentation: https://pandas.pydata.org/pandas-docs/stable/user_guide/indexing.html#returning-a-view-versus-a-copy\n",
      "  democrats[\"f13\"]=democrats.f13.apply(lambda x: fixQMark(x,\"f13\",1))\n"
     ]
    }
   ],
   "source": [
    "democrats[\"f13\"]=democrats.f13.apply(lambda x: fixQMark(x,\"f13\",1))"
   ]
  },
  {
   "cell_type": "code",
   "execution_count": 29,
   "metadata": {},
   "outputs": [
    {
     "name": "stderr",
     "output_type": "stream",
     "text": [
      "<ipython-input-29-f2821b50479d>:1: SettingWithCopyWarning: \n",
      "A value is trying to be set on a copy of a slice from a DataFrame.\n",
      "Try using .loc[row_indexer,col_indexer] = value instead\n",
      "\n",
      "See the caveats in the documentation: https://pandas.pydata.org/pandas-docs/stable/user_guide/indexing.html#returning-a-view-versus-a-copy\n",
      "  democrats[\"f14\"]=democrats.f14.apply(lambda x: fixQMark(x,\"f14\",1))\n"
     ]
    }
   ],
   "source": [
    "democrats[\"f14\"]=democrats.f14.apply(lambda x: fixQMark(x,\"f14\",1))"
   ]
  },
  {
   "cell_type": "code",
   "execution_count": 30,
   "metadata": {},
   "outputs": [
    {
     "name": "stderr",
     "output_type": "stream",
     "text": [
      "<ipython-input-30-436250cd56cb>:1: SettingWithCopyWarning: \n",
      "A value is trying to be set on a copy of a slice from a DataFrame.\n",
      "Try using .loc[row_indexer,col_indexer] = value instead\n",
      "\n",
      "See the caveats in the documentation: https://pandas.pydata.org/pandas-docs/stable/user_guide/indexing.html#returning-a-view-versus-a-copy\n",
      "  democrats[\"f15\"]=democrats.f15.apply(lambda x: fixQMark(x,\"f15\",1))\n"
     ]
    }
   ],
   "source": [
    "democrats[\"f15\"]=democrats.f15.apply(lambda x: fixQMark(x,\"f15\",1))"
   ]
  },
  {
   "cell_type": "code",
   "execution_count": 31,
   "metadata": {},
   "outputs": [
    {
     "name": "stderr",
     "output_type": "stream",
     "text": [
      "<ipython-input-31-c5a38feb0fec>:1: SettingWithCopyWarning: \n",
      "A value is trying to be set on a copy of a slice from a DataFrame.\n",
      "Try using .loc[row_indexer,col_indexer] = value instead\n",
      "\n",
      "See the caveats in the documentation: https://pandas.pydata.org/pandas-docs/stable/user_guide/indexing.html#returning-a-view-versus-a-copy\n",
      "  democrats[\"f16\"]=democrats.f16.apply(lambda x: fixQMark(x,\"f16\",1))\n"
     ]
    }
   ],
   "source": [
    "democrats[\"f16\"]=democrats.f16.apply(lambda x: fixQMark(x,\"f16\",1))"
   ]
  },
  {
   "cell_type": "code",
   "execution_count": 33,
   "metadata": {},
   "outputs": [
    {
     "name": "stderr",
     "output_type": "stream",
     "text": [
      "<ipython-input-33-a5c2ff1dbda8>:1: SettingWithCopyWarning: \n",
      "A value is trying to be set on a copy of a slice from a DataFrame.\n",
      "Try using .loc[row_indexer,col_indexer] = value instead\n",
      "\n",
      "See the caveats in the documentation: https://pandas.pydata.org/pandas-docs/stable/user_guide/indexing.html#returning-a-view-versus-a-copy\n",
      "  republicans[\"f1\"]=republicans.f1.apply(lambda x: fixQMark(x,\"f1\",0))\n"
     ]
    }
   ],
   "source": [
    "republicans[\"f1\"]=republicans.f1.apply(lambda x: fixQMark(x,\"f1\",0))"
   ]
  },
  {
   "cell_type": "code",
   "execution_count": 34,
   "metadata": {},
   "outputs": [
    {
     "name": "stderr",
     "output_type": "stream",
     "text": [
      "<ipython-input-34-e8f4703ba83a>:1: SettingWithCopyWarning: \n",
      "A value is trying to be set on a copy of a slice from a DataFrame.\n",
      "Try using .loc[row_indexer,col_indexer] = value instead\n",
      "\n",
      "See the caveats in the documentation: https://pandas.pydata.org/pandas-docs/stable/user_guide/indexing.html#returning-a-view-versus-a-copy\n",
      "  republicans[\"f2\"]=republicans.f2.apply(lambda x: fixQMark(x,\"f2\",0))\n"
     ]
    }
   ],
   "source": [
    "republicans[\"f2\"]=republicans.f2.apply(lambda x: fixQMark(x,\"f2\",0))"
   ]
  },
  {
   "cell_type": "code",
   "execution_count": 35,
   "metadata": {},
   "outputs": [
    {
     "name": "stderr",
     "output_type": "stream",
     "text": [
      "<ipython-input-35-cbade7a604d4>:1: SettingWithCopyWarning: \n",
      "A value is trying to be set on a copy of a slice from a DataFrame.\n",
      "Try using .loc[row_indexer,col_indexer] = value instead\n",
      "\n",
      "See the caveats in the documentation: https://pandas.pydata.org/pandas-docs/stable/user_guide/indexing.html#returning-a-view-versus-a-copy\n",
      "  republicans[\"f3\"]=republicans.f3.apply(lambda x: fixQMark(x,\"f3\",0))\n"
     ]
    }
   ],
   "source": [
    "republicans[\"f3\"]=republicans.f3.apply(lambda x: fixQMark(x,\"f3\",0))"
   ]
  },
  {
   "cell_type": "code",
   "execution_count": 36,
   "metadata": {},
   "outputs": [
    {
     "name": "stderr",
     "output_type": "stream",
     "text": [
      "<ipython-input-36-0d01cc4e0426>:1: SettingWithCopyWarning: \n",
      "A value is trying to be set on a copy of a slice from a DataFrame.\n",
      "Try using .loc[row_indexer,col_indexer] = value instead\n",
      "\n",
      "See the caveats in the documentation: https://pandas.pydata.org/pandas-docs/stable/user_guide/indexing.html#returning-a-view-versus-a-copy\n",
      "  republicans[\"f4\"]=republicans.f4.apply(lambda x: fixQMark(x,\"f4\",0))\n"
     ]
    }
   ],
   "source": [
    "republicans[\"f4\"]=republicans.f4.apply(lambda x: fixQMark(x,\"f4\",0))"
   ]
  },
  {
   "cell_type": "code",
   "execution_count": 37,
   "metadata": {},
   "outputs": [
    {
     "name": "stderr",
     "output_type": "stream",
     "text": [
      "<ipython-input-37-0b0b5fde5e67>:1: SettingWithCopyWarning: \n",
      "A value is trying to be set on a copy of a slice from a DataFrame.\n",
      "Try using .loc[row_indexer,col_indexer] = value instead\n",
      "\n",
      "See the caveats in the documentation: https://pandas.pydata.org/pandas-docs/stable/user_guide/indexing.html#returning-a-view-versus-a-copy\n",
      "  republicans[\"f5\"]=republicans.f5.apply(lambda x: fixQMark(x,\"f5\",0))\n"
     ]
    }
   ],
   "source": [
    "republicans[\"f5\"]=republicans.f5.apply(lambda x: fixQMark(x,\"f5\",0))"
   ]
  },
  {
   "cell_type": "code",
   "execution_count": 38,
   "metadata": {},
   "outputs": [
    {
     "name": "stderr",
     "output_type": "stream",
     "text": [
      "<ipython-input-38-3e66f478cc61>:1: SettingWithCopyWarning: \n",
      "A value is trying to be set on a copy of a slice from a DataFrame.\n",
      "Try using .loc[row_indexer,col_indexer] = value instead\n",
      "\n",
      "See the caveats in the documentation: https://pandas.pydata.org/pandas-docs/stable/user_guide/indexing.html#returning-a-view-versus-a-copy\n",
      "  republicans[\"f6\"]=republicans.f6.apply(lambda x: fixQMark(x,\"f6\",0))\n"
     ]
    }
   ],
   "source": [
    "republicans[\"f6\"]=republicans.f6.apply(lambda x: fixQMark(x,\"f6\",0))"
   ]
  },
  {
   "cell_type": "code",
   "execution_count": 39,
   "metadata": {},
   "outputs": [
    {
     "name": "stderr",
     "output_type": "stream",
     "text": [
      "<ipython-input-39-29d8fbb4a587>:1: SettingWithCopyWarning: \n",
      "A value is trying to be set on a copy of a slice from a DataFrame.\n",
      "Try using .loc[row_indexer,col_indexer] = value instead\n",
      "\n",
      "See the caveats in the documentation: https://pandas.pydata.org/pandas-docs/stable/user_guide/indexing.html#returning-a-view-versus-a-copy\n",
      "  republicans[\"f7\"]=republicans.f7.apply(lambda x: fixQMark(x,\"f7\",0))\n"
     ]
    }
   ],
   "source": [
    "republicans[\"f7\"]=republicans.f7.apply(lambda x: fixQMark(x,\"f7\",0))"
   ]
  },
  {
   "cell_type": "code",
   "execution_count": 40,
   "metadata": {},
   "outputs": [
    {
     "name": "stderr",
     "output_type": "stream",
     "text": [
      "<ipython-input-40-4c2369d7528e>:1: SettingWithCopyWarning: \n",
      "A value is trying to be set on a copy of a slice from a DataFrame.\n",
      "Try using .loc[row_indexer,col_indexer] = value instead\n",
      "\n",
      "See the caveats in the documentation: https://pandas.pydata.org/pandas-docs/stable/user_guide/indexing.html#returning-a-view-versus-a-copy\n",
      "  republicans[\"f8\"]=republicans.f8.apply(lambda x: fixQMark(x,\"f8\",0))\n"
     ]
    }
   ],
   "source": [
    "republicans[\"f8\"]=republicans.f8.apply(lambda x: fixQMark(x,\"f8\",0))"
   ]
  },
  {
   "cell_type": "code",
   "execution_count": 41,
   "metadata": {},
   "outputs": [
    {
     "name": "stderr",
     "output_type": "stream",
     "text": [
      "<ipython-input-41-250707fd331b>:1: SettingWithCopyWarning: \n",
      "A value is trying to be set on a copy of a slice from a DataFrame.\n",
      "Try using .loc[row_indexer,col_indexer] = value instead\n",
      "\n",
      "See the caveats in the documentation: https://pandas.pydata.org/pandas-docs/stable/user_guide/indexing.html#returning-a-view-versus-a-copy\n",
      "  republicans[\"f9\"]=republicans.f9.apply(lambda x: fixQMark(x,\"f9\",0))\n"
     ]
    }
   ],
   "source": [
    "republicans[\"f9\"]=republicans.f9.apply(lambda x: fixQMark(x,\"f9\",0))"
   ]
  },
  {
   "cell_type": "code",
   "execution_count": 42,
   "metadata": {},
   "outputs": [
    {
     "name": "stderr",
     "output_type": "stream",
     "text": [
      "<ipython-input-42-94047e4653ec>:1: SettingWithCopyWarning: \n",
      "A value is trying to be set on a copy of a slice from a DataFrame.\n",
      "Try using .loc[row_indexer,col_indexer] = value instead\n",
      "\n",
      "See the caveats in the documentation: https://pandas.pydata.org/pandas-docs/stable/user_guide/indexing.html#returning-a-view-versus-a-copy\n",
      "  republicans[\"f10\"]=republicans.f10.apply(lambda x: fixQMark(x,\"f10\",0))\n"
     ]
    }
   ],
   "source": [
    "republicans[\"f10\"]=republicans.f10.apply(lambda x: fixQMark(x,\"f10\",0))"
   ]
  },
  {
   "cell_type": "code",
   "execution_count": 43,
   "metadata": {},
   "outputs": [
    {
     "name": "stderr",
     "output_type": "stream",
     "text": [
      "<ipython-input-43-74f217e859ae>:1: SettingWithCopyWarning: \n",
      "A value is trying to be set on a copy of a slice from a DataFrame.\n",
      "Try using .loc[row_indexer,col_indexer] = value instead\n",
      "\n",
      "See the caveats in the documentation: https://pandas.pydata.org/pandas-docs/stable/user_guide/indexing.html#returning-a-view-versus-a-copy\n",
      "  republicans[\"f11\"]=republicans.f11.apply(lambda x: fixQMark(x,\"f11\",0))\n"
     ]
    }
   ],
   "source": [
    "republicans[\"f11\"]=republicans.f11.apply(lambda x: fixQMark(x,\"f11\",0))"
   ]
  },
  {
   "cell_type": "code",
   "execution_count": 44,
   "metadata": {},
   "outputs": [
    {
     "name": "stderr",
     "output_type": "stream",
     "text": [
      "<ipython-input-44-c049f1bf5720>:1: SettingWithCopyWarning: \n",
      "A value is trying to be set on a copy of a slice from a DataFrame.\n",
      "Try using .loc[row_indexer,col_indexer] = value instead\n",
      "\n",
      "See the caveats in the documentation: https://pandas.pydata.org/pandas-docs/stable/user_guide/indexing.html#returning-a-view-versus-a-copy\n",
      "  republicans[\"f12\"]=republicans.f12.apply(lambda x: fixQMark(x,\"f12\",0))\n"
     ]
    }
   ],
   "source": [
    "republicans[\"f12\"]=republicans.f12.apply(lambda x: fixQMark(x,\"f12\",0))"
   ]
  },
  {
   "cell_type": "code",
   "execution_count": 45,
   "metadata": {},
   "outputs": [
    {
     "name": "stderr",
     "output_type": "stream",
     "text": [
      "<ipython-input-45-71f2a1d91e9b>:1: SettingWithCopyWarning: \n",
      "A value is trying to be set on a copy of a slice from a DataFrame.\n",
      "Try using .loc[row_indexer,col_indexer] = value instead\n",
      "\n",
      "See the caveats in the documentation: https://pandas.pydata.org/pandas-docs/stable/user_guide/indexing.html#returning-a-view-versus-a-copy\n",
      "  republicans[\"f13\"]=republicans.f13.apply(lambda x: fixQMark(x,\"f13\",0))\n"
     ]
    }
   ],
   "source": [
    "republicans[\"f13\"]=republicans.f13.apply(lambda x: fixQMark(x,\"f13\",0))"
   ]
  },
  {
   "cell_type": "code",
   "execution_count": 46,
   "metadata": {},
   "outputs": [
    {
     "name": "stderr",
     "output_type": "stream",
     "text": [
      "<ipython-input-46-dbc8a753e5e9>:1: SettingWithCopyWarning: \n",
      "A value is trying to be set on a copy of a slice from a DataFrame.\n",
      "Try using .loc[row_indexer,col_indexer] = value instead\n",
      "\n",
      "See the caveats in the documentation: https://pandas.pydata.org/pandas-docs/stable/user_guide/indexing.html#returning-a-view-versus-a-copy\n",
      "  republicans[\"f14\"]=republicans.f14.apply(lambda x: fixQMark(x,\"f14\",0))\n"
     ]
    }
   ],
   "source": [
    "republicans[\"f14\"]=republicans.f14.apply(lambda x: fixQMark(x,\"f14\",0))"
   ]
  },
  {
   "cell_type": "code",
   "execution_count": 47,
   "metadata": {},
   "outputs": [
    {
     "name": "stderr",
     "output_type": "stream",
     "text": [
      "<ipython-input-47-d9e6c1f75abe>:1: SettingWithCopyWarning: \n",
      "A value is trying to be set on a copy of a slice from a DataFrame.\n",
      "Try using .loc[row_indexer,col_indexer] = value instead\n",
      "\n",
      "See the caveats in the documentation: https://pandas.pydata.org/pandas-docs/stable/user_guide/indexing.html#returning-a-view-versus-a-copy\n",
      "  republicans[\"f15\"]=republicans.f15.apply(lambda x: fixQMark(x,\"f15\",0))\n"
     ]
    }
   ],
   "source": [
    "republicans[\"f15\"]=republicans.f15.apply(lambda x: fixQMark(x,\"f15\",0))"
   ]
  },
  {
   "cell_type": "code",
   "execution_count": 48,
   "metadata": {},
   "outputs": [
    {
     "name": "stderr",
     "output_type": "stream",
     "text": [
      "<ipython-input-48-1c49a7a2db78>:1: SettingWithCopyWarning: \n",
      "A value is trying to be set on a copy of a slice from a DataFrame.\n",
      "Try using .loc[row_indexer,col_indexer] = value instead\n",
      "\n",
      "See the caveats in the documentation: https://pandas.pydata.org/pandas-docs/stable/user_guide/indexing.html#returning-a-view-versus-a-copy\n",
      "  republicans[\"f16\"]=republicans.f16.apply(lambda x: fixQMark(x,\"f16\",0))\n"
     ]
    }
   ],
   "source": [
    "republicans[\"f16\"]=republicans.f16.apply(lambda x: fixQMark(x,\"f16\",0))"
   ]
  },
  {
   "cell_type": "code",
   "execution_count": 51,
   "metadata": {},
   "outputs": [],
   "source": [
    "#weather=pd.concat([positive_df, negative_df], ignore_index=True)\n",
    "data=pd.concat([republicans, democrats], ignore_index=True)"
   ]
  },
  {
   "cell_type": "markdown",
   "metadata": {},
   "source": [
    "After putting the Republicans and Democrats data sets back together I was worried that the data set may not be randomized enough.  To fix this I took a random sample with the same length as the data set without replacement.  Essentially, this just randomly reorganizes the rows. "
   ]
  },
  {
   "cell_type": "code",
   "execution_count": 53,
   "metadata": {},
   "outputs": [],
   "source": [
    "data=data.sample(n=435, replace=False).reset_index()"
   ]
  },
  {
   "cell_type": "code",
   "execution_count": 54,
   "metadata": {},
   "outputs": [],
   "source": [
    "data=data.drop(columns={\"index\"})"
   ]
  },
  {
   "cell_type": "markdown",
   "metadata": {},
   "source": [
    "## The Decision Tree\n",
    "\n",
    "### Preliminary Functions"
   ]
  },
  {
   "cell_type": "code",
   "execution_count": 56,
   "metadata": {},
   "outputs": [],
   "source": [
    "def impurity(df, feature, value): # df is a dataframe, feature is the feature name as a string, value is boolean\n",
    "    if len(df[df[feature]==value])==0:\n",
    "        return 1\n",
    "    else:\n",
    "        return 1-(len(df[(df[feature]==value) & (df[\"Label\"]==0)])/len(df[df[feature]==value]))**2-(len(df[(df[feature]==value) & (df[\"Label\"]==1)])/len(df[df[feature]==value]))**2"
   ]
  },
  {
   "cell_type": "code",
   "execution_count": 57,
   "metadata": {},
   "outputs": [],
   "source": [
    "def weightedImpurity(df, feature):\n",
    "    return (len(df[df[feature]==\"n\"])/len(df))*impurity(df, feature, \"n\")+(len(df[df[feature]==\"y\"])/len(df))*impurity(df, feature, \"y\")"
   ]
  },
  {
   "cell_type": "code",
   "execution_count": 58,
   "metadata": {},
   "outputs": [],
   "source": [
    "def purestFeature(df, labelColumnName, columnName):\n",
    "    # Grab features that are not label\n",
    "    features=set(df.columns).difference(set([labelColumnName, columnName]))\n",
    "    # create dict with weighted impurity key and feature value\n",
    "    featureImpurities={}\n",
    "    for feature in features:\n",
    "        featureImpurities[weightedImpurity(df, feature)]=feature\n",
    "        \n",
    "    return featureImpurities[np.array(list(featureImpurities.keys())).min()]"
   ]
  },
  {
   "cell_type": "code",
   "execution_count": 59,
   "metadata": {},
   "outputs": [],
   "source": [
    "def isPure(df, labelColumnName):\n",
    "    if (len(df)==df[labelColumnName].sum()) or (df[labelColumnName].sum()==0):\n",
    "        return True\n",
    "    else:\n",
    "        return False"
   ]
  },
  {
   "cell_type": "code",
   "execution_count": 60,
   "metadata": {},
   "outputs": [],
   "source": [
    "def value(df, labelColumnName):\n",
    "    if not(isPure(df,labelColumnName)): # not pure\n",
    "        num_ones=len(df[df[labelColumnName]==1])\n",
    "        num_zeros=len(df[df[labelColumnName]==0])\n",
    "        if max(num_ones,num_zeros)==num_ones:\n",
    "            return 1\n",
    "        else:\n",
    "            return 0\n",
    "    else: # pure\n",
    "        return df.reset_index()[labelColumnName][0]"
   ]
  },
  {
   "cell_type": "code",
   "execution_count": 61,
   "metadata": {},
   "outputs": [],
   "source": [
    "def unreconcilable(df): # needs to be generalized for any df\n",
    "    numFeaturesAllOneValue=0\n",
    "    features=set(df.columns).difference(set([\"Label\"]))\n",
    "    for feature in features:\n",
    "        if (len(df[df[feature]==\"y\"])==0) or (len(df[df[feature]==\"n\"])==0):\n",
    "            numFeaturesAllOneValue+=1\n",
    "    if numFeaturesAllOneValue==len(features):\n",
    "        return True\n",
    "    else:\n",
    "        return False"
   ]
  },
  {
   "cell_type": "markdown",
   "metadata": {},
   "source": [
    "### Train Test Split"
   ]
  },
  {
   "cell_type": "code",
   "execution_count": 65,
   "metadata": {},
   "outputs": [
    {
     "data": {
      "image/png": "[encoded data removed]",
      "text/plain": [
       "<Figure size 432x288 with 1 Axes>"
      ]
     },
     "metadata": {
      "needs_background": "light"
     },
     "output_type": "display_data"
    }
   ],
   "source": [
    "ax = sns.countplot(x=\"Label\", data=data)"
   ]
  },
  {
   "cell_type": "code",
   "execution_count": 66,
   "metadata": {},
   "outputs": [],
   "source": [
    "feature_columns=list(data.columns)"
   ]
  },
  {
   "cell_type": "code",
   "execution_count": 67,
   "metadata": {},
   "outputs": [],
   "source": [
    "feature_columns.remove(\"Label\")"
   ]
  },
  {
   "cell_type": "code",
   "execution_count": 71,
   "metadata": {},
   "outputs": [],
   "source": [
    "rng=np.random.RandomState(2021111)"
   ]
  },
  {
   "cell_type": "markdown",
   "metadata": {},
   "source": [
    "I learned the following method in CS 533."
   ]
  },
  {
   "cell_type": "code",
   "execution_count": 74,
   "metadata": {},
   "outputs": [],
   "source": [
    "#Slect the test data.\n",
    "test=data.sample(frac=0.25, random_state=rng)\n",
    "\n",
    "#Create boolean mask.\n",
    "train_mask=pd.Series(True, index=data.index)\n",
    "\n",
    "train_mask[test.index] = False\n",
    "\n",
    "train = data[train_mask].copy()"
   ]
  },
  {
   "cell_type": "markdown",
   "metadata": {},
   "source": [
    "### Fit the training data"
   ]
  },
  {
   "cell_type": "code",
   "execution_count": 75,
   "metadata": {},
   "outputs": [],
   "source": [
    "def Fit(df): # assuming df does not start as pure\n",
    "    tree=Tree()\n",
    "    maxDepth=16 # will need to generalize \n",
    "    tree.create_node(purestFeature(df, \"Label\", \"A\"), \"0\", data=df)\n",
    "    while tree.depth() <= maxDepth:\n",
    "        numTerminalLeaves=0\n",
    "        print(tree.leaves())\n",
    "        for leaf in tree.leaves():\n",
    "            DF=leaf.data\n",
    "            if type(leaf.tag)==type(\"aa\"):\n",
    "                left=DF[DF[leaf.tag]==\"y\"]\n",
    "                if isPure(left,\"Label\") or unreconcilable(left): # if left is terminal\n",
    "                    tree.create_node(value(left, \"Label\"), leaf.identifier+\"y\",parent=leaf.identifier)  #leaf.identifier+\"A\"                  \n",
    "                else:\n",
    "                    tree.create_node(purestFeature(left, \"Label\", leaf.tag), leaf.identifier+\"y\",parent=leaf.identifier, data=left)\n",
    "                \n",
    "                # now do the same for right \n",
    "                right=DF[DF[leaf.tag]==\"n\"]\n",
    "                if isPure(right,\"Label\") or unreconcilable(right): # if right is terminal\n",
    "                    tree.create_node(value(right, \"Label\"), leaf.identifier+\"n\",parent=leaf.identifier)\n",
    "                else:\n",
    "                    tree.create_node(purestFeature(right, \"Label\", leaf.tag), leaf.identifier+\"n\", parent=leaf.identifier, data=right)\n",
    "                \n",
    "            else:\n",
    "                numTerminalLeaves+=1\n",
    "            # check to see if all leaves terminal\n",
    "        if numTerminalLeaves==len(tree.leaves()):\n",
    "            break\n",
    "        continue\n",
    "    return tree"
   ]
  },
  {
   "cell_type": "markdown",
   "metadata": {},
   "source": [
    "It is interesting to see the data that is stored in each leaf as the tree is built.  The tree very efficiently sorts through the data.\n",
    "\n",
    "Note that the identifier for each node gives a traversal from the root node labelled \"0\" to a that particular node."
   ]
  },
  {
   "cell_type": "code",
   "execution_count": 76,
   "metadata": {},
   "outputs": [
    {
     "name": "stdout",
     "output_type": "stream",
     "text": [
      "[Node(tag=f4, identifier=0, data=    f1 f2 f3 f4 f5 f6 f7 f8 f9 f10 f11 f12 f13 f14 f15 f16  Label\n",
      "2    n  n  n  y  y  y  n  n  n   y   n   y   y   y   n   n      0\n",
      "3    y  n  y  n  n  n  y  y  y   y   y   n   n   y   y   y      1\n",
      "5    n  y  n  y  y  y  n  n  n   n   n   n   y   y   n   y      0\n",
      "6    n  n  n  y  n  n  y  y  y   y   n   n   y   y   n   y      0\n",
      "7    n  n  n  y  y  y  n  n  n   n   n   y   y   y   n   n      0\n",
      "..  .. .. .. .. .. .. .. .. ..  ..  ..  ..  ..  ..  ..  ..    ...\n",
      "428  n  n  n  y  y  y  n  n  n   y   y   y   y   y   n   y      0\n",
      "429  y  y  y  n  n  n  y  y  y   n   y   n   n   n   y   y      1\n",
      "430  y  y  n  y  y  y  n  n  n   n   y   n   y   y   n   y      1\n",
      "431  n  y  n  y  y  y  n  n  n   n   n   y   y   y   n   n      0\n",
      "432  y  n  y  n  n  y  y  y  y   n   n   y   n   y   y   y      1\n",
      "\n",
      "[326 rows x 17 columns])]\n",
      "[Node(tag=f11, identifier=0y, data=    f1 f2 f3 f4 f5 f6 f7 f8 f9 f10 f11 f12 f13 f14 f15 f16  Label\n",
      "2    n  n  n  y  y  y  n  n  n   y   n   y   y   y   n   n      0\n",
      "5    n  y  n  y  y  y  n  n  n   n   n   n   y   y   n   y      0\n",
      "6    n  n  n  y  n  n  y  y  y   y   n   n   y   y   n   y      0\n",
      "7    n  n  n  y  y  y  n  n  n   n   n   y   y   y   n   n      0\n",
      "9    n  y  n  y  y  y  n  n  n   y   n   y   y   y   n   y      0\n",
      "..  .. .. .. .. .. .. .. .. ..  ..  ..  ..  ..  ..  ..  ..    ...\n",
      "424  n  y  n  y  y  y  n  n  n   y   n   y   y   y   n   n      0\n",
      "427  n  y  n  y  y  n  n  n  n   n   n   y   y   y   n   n      0\n",
      "428  n  n  n  y  y  y  n  n  n   y   y   y   y   y   n   y      0\n",
      "430  y  y  n  y  y  y  n  n  n   n   y   n   y   y   n   y      1\n",
      "431  n  y  n  y  y  y  n  n  n   n   n   y   y   y   n   n      0\n",
      "\n",
      "[140 rows x 17 columns]), Node(tag=f3, identifier=0n, data=    f1 f2 f3 f4 f5 f6 f7 f8 f9 f10 f11 f12 f13 f14 f15 f16  Label\n",
      "3    y  n  y  n  n  n  y  y  y   y   y   n   n   y   y   y      1\n",
      "8    y  y  y  n  n  n  y  y  y   n   y   n   n   n   y   y      1\n",
      "10   y  n  n  n  y  y  y  n  n   y   y   n   n   y   n   y      1\n",
      "11   y  y  y  n  n  n  y  y  y   n   y   n   n   n   y   y      1\n",
      "12   y  n  y  n  n  n  n  y  y   y   n   n   n   n   y   y      1\n",
      "..  .. .. .. .. .. .. .. .. ..  ..  ..  ..  ..  ..  ..  ..    ...\n",
      "421  n  y  y  n  n  y  y  y  y   y   n   n   n   y   y   y      1\n",
      "425  n  n  n  n  y  y  n  n  n   y   y   y   y   y   n   y      1\n",
      "426  y  n  y  n  n  n  y  y  y   y   n   n   n   n   y   y      1\n",
      "429  y  y  y  n  n  n  y  y  y   n   y   n   n   n   y   y      1\n",
      "432  y  n  y  n  n  y  y  y  y   n   n   y   n   y   y   y      1\n",
      "\n",
      "[186 rows x 17 columns])]\n",
      "[Node(tag=f12, identifier=0yy, data=    f1 f2 f3 f4 f5 f6 f7 f8 f9 f10 f11 f12 f13 f14 f15 f16  Label\n",
      "50   n  y  y  y  y  y  n  n  n   y   y   y   y   y   y   y      1\n",
      "63   n  y  y  y  y  y  n  n  n   y   y   n   y   y   n   n      1\n",
      "81   y  y  n  y  y  y  n  n  n   n   y   y   y   y   n   y      0\n",
      "103  y  y  n  y  y  y  n  n  n   n   y   y   y   y   n   n      0\n",
      "113  n  y  n  y  y  y  n  n  n   n   y   y   y   y   n   y      0\n",
      "125  n  y  n  y  y  y  n  n  n   n   y   y   n   y   n   n      1\n",
      "126  n  y  n  y  y  y  n  n  n   n   y   y   y   y   n   y      0\n",
      "128  n  y  n  y  n  y  y  y  y   n   y   n   y   n   y   y      1\n",
      "162  n  n  y  y  y  y  y  n  n   y   y   y   y   y   n   y      0\n",
      "235  n  n  n  y  y  y  n  n  n   n   y   y   y   y   n   n      1\n",
      "256  n  y  n  y  y  y  n  n  n   n   y   y   y   y   n   n      0\n",
      "273  n  y  y  y  y  y  n  n  n   n   y   y   n   y   n   n      1\n",
      "277  y  n  y  y  y  y  y  y  n   y   y   y   n   y   y   y      0\n",
      "284  y  y  y  y  y  y  n  n  n   n   y   y   y   y   n   y      1\n",
      "297  n  y  n  y  y  y  n  n  n   y   y   y   y   y   n   n      0\n",
      "331  y  n  n  y  y  y  n  n  n   n   y   y   y   y   n   n      0\n",
      "354  y  y  y  y  n  n  y  y  y   y   y   n   n   y   n   y      0\n",
      "356  n  y  n  y  y  y  y  n  n   n   y   y   y   y   n   y      0\n",
      "428  n  n  n  y  y  y  n  n  n   y   y   y   y   y   n   y      0\n",
      "430  y  y  n  y  y  y  n  n  n   n   y   n   y   y   n   y      1), Node(tag=f15, identifier=0yn, data=    f1 f2 f3 f4 f5 f6 f7 f8 f9 f10 f11 f12 f13 f14 f15 f16  Label\n",
      "2    n  n  n  y  y  y  n  n  n   y   n   y   y   y   n   n      0\n",
      "5    n  y  n  y  y  y  n  n  n   n   n   n   y   y   n   y      0\n",
      "6    n  n  n  y  n  n  y  y  y   y   n   n   y   y   n   y      0\n",
      "7    n  n  n  y  y  y  n  n  n   n   n   y   y   y   n   n      0\n",
      "9    n  y  n  y  y  y  n  n  n   y   n   y   y   y   n   y      0\n",
      "..  .. .. .. .. .. .. .. .. ..  ..  ..  ..  ..  ..  ..  ..    ...\n",
      "419  n  y  y  y  y  y  y  n  n   n   n   n   y   y   y   y      0\n",
      "420  n  y  n  y  y  y  n  n  n   y   n   y   y   y   n   n      0\n",
      "424  n  y  n  y  y  y  n  n  n   y   n   y   y   y   n   n      0\n",
      "427  n  y  n  y  y  n  n  n  n   n   n   y   y   y   n   n      0\n",
      "431  n  y  n  y  y  y  n  n  n   n   n   y   y   y   n   n      0\n",
      "\n",
      "[120 rows x 17 columns]), Node(tag=1, identifier=0ny, data=None), Node(tag=f11, identifier=0nn, data=    f1 f2 f3 f4 f5 f6 f7 f8 f9 f10 f11 f12 f13 f14 f15 f16  Label\n",
      "10   y  n  n  n  y  y  y  n  n   y   y   n   n   y   n   y      1\n",
      "60   n  n  n  n  y  y  y  n  n   n   n   y   y   y   n   y      1\n",
      "143  n  n  n  n  n  y  n  y  y   n   y   y   y   y   y   n      1\n",
      "147  n  n  n  n  y  y  y  n  n   n   n   y   n   y   y   y      0\n",
      "188  n  y  n  n  n  y  y  y  y   y   n   n   n   y   n   y      1\n",
      "192  n  n  n  n  n  n  y  y  y   y   n   y   y   y   y   y      1\n",
      "201  n  n  n  n  n  y  y  y  y   n   y   n   n   y   y   y      1\n",
      "237  y  n  n  n  y  y  y  n  y   n   n   n   n   y   y   n      1\n",
      "295  y  y  n  n  y  y  n  n  n   y   y   y   y   y   n   y      1\n",
      "314  y  n  n  n  y  y  n  n  n   n   y   y   n   y   n   y      1\n",
      "321  n  y  n  n  y  y  n  n  n   y   y   n   y   y   n   n      1\n",
      "345  y  y  n  n  n  n  n  y  y   n   y   n   n   n   y   n      1\n",
      "382  y  y  n  n  n  y  y  n  n   n   y   y   n   y   n   y      1\n",
      "383  y  n  n  n  n  y  y  y  y   y   n   n   n   y   y   y      1\n",
      "425  n  n  n  n  y  y  n  n  n   y   y   y   y   y   n   y      1)]\n",
      "[Node(tag=1, identifier=0ny, data=None), Node(tag=f3, identifier=0yyy, data=    f1 f2 f3 f4 f5 f6 f7 f8 f9 f10 f11 f12 f13 f14 f15 f16  Label\n",
      "50   n  y  y  y  y  y  n  n  n   y   y   y   y   y   y   y      1\n",
      "81   y  y  n  y  y  y  n  n  n   n   y   y   y   y   n   y      0\n",
      "103  y  y  n  y  y  y  n  n  n   n   y   y   y   y   n   n      0\n",
      "113  n  y  n  y  y  y  n  n  n   n   y   y   y   y   n   y      0\n",
      "125  n  y  n  y  y  y  n  n  n   n   y   y   n   y   n   n      1\n",
      "126  n  y  n  y  y  y  n  n  n   n   y   y   y   y   n   y      0\n",
      "162  n  n  y  y  y  y  y  n  n   y   y   y   y   y   n   y      0\n",
      "235  n  n  n  y  y  y  n  n  n   n   y   y   y   y   n   n      1\n",
      "256  n  y  n  y  y  y  n  n  n   n   y   y   y   y   n   n      0\n",
      "273  n  y  y  y  y  y  n  n  n   n   y   y   n   y   n   n      1\n",
      "277  y  n  y  y  y  y  y  y  n   y   y   y   n   y   y   y      0\n",
      "284  y  y  y  y  y  y  n  n  n   n   y   y   y   y   n   y      1\n",
      "297  n  y  n  y  y  y  n  n  n   y   y   y   y   y   n   n      0\n",
      "331  y  n  n  y  y  y  n  n  n   n   y   y   y   y   n   n      0\n",
      "356  n  y  n  y  y  y  y  n  n   n   y   y   y   y   n   y      0\n",
      "428  n  n  n  y  y  y  n  n  n   y   y   y   y   y   n   y      0), Node(tag=f13, identifier=0yyn, data=    f1 f2 f3 f4 f5 f6 f7 f8 f9 f10 f11 f12 f13 f14 f15 f16  Label\n",
      "63   n  y  y  y  y  y  n  n  n   y   y   n   y   y   n   n      1\n",
      "128  n  y  n  y  n  y  y  y  y   n   y   n   y   n   y   y      1\n",
      "354  y  y  y  y  n  n  y  y  y   y   y   n   n   y   n   y      0\n",
      "430  y  y  n  y  y  y  n  n  n   n   y   n   y   y   n   y      1), Node(tag=f2, identifier=0yny, data=    f1 f2 f3 f4 f5 f6 f7 f8 f9 f10 f11 f12 f13 f14 f15 f16  Label\n",
      "34   n  n  y  y  y  y  n  n  n   y   n   y   y   y   y   y      0\n",
      "80   n  n  n  y  y  y  n  n  n   y   n   y   y   y   y   n      0\n",
      "95   n  n  y  y  y  y  y  y  y   y   n   y   y   y   y   y      0\n",
      "105  n  n  y  y  n  n  y  y  y   y   n   n   n   y   y   y      0\n",
      "134  n  n  n  y  y  y  y  n  n   y   n   y   n   y   y   y      0\n",
      "140  n  n  n  y  y  y  n  n  n   n   n   y   y   y   y   n      0\n",
      "218  y  n  n  y  y  n  y  n  n   y   n   n   n   y   y   y      0\n",
      "251  y  n  y  y  n  n  n  y  y   y   n   n   n   y   y   y      0\n",
      "330  y  n  y  y  y  y  y  y  n   y   n   y   n   y   y   y      0\n",
      "395  n  n  n  y  y  y  y  n  n   y   n   n   n   y   y   y      0\n",
      "398  n  y  n  y  y  y  n  n  n   n   n   n   n   y   y   y      1\n",
      "419  n  y  y  y  y  y  y  n  n   n   n   n   y   y   y   y      0), Node(tag=f3, identifier=0ynn, data=    f1 f2 f3 f4 f5 f6 f7 f8 f9 f10 f11 f12 f13 f14 f15 f16  Label\n",
      "2    n  n  n  y  y  y  n  n  n   y   n   y   y   y   n   n      0\n",
      "5    n  y  n  y  y  y  n  n  n   n   n   n   y   y   n   y      0\n",
      "6    n  n  n  y  n  n  y  y  y   y   n   n   y   y   n   y      0\n",
      "7    n  n  n  y  y  y  n  n  n   n   n   y   y   y   n   n      0\n",
      "9    n  y  n  y  y  y  n  n  n   y   n   y   y   y   n   y      0\n",
      "..  .. .. .. .. .. .. .. .. ..  ..  ..  ..  ..  ..  ..  ..    ...\n",
      "418  n  y  y  y  y  y  n  n  n   n   n   y   y   y   n   y      1\n",
      "420  n  y  n  y  y  y  n  n  n   y   n   y   y   y   n   n      0\n",
      "424  n  y  n  y  y  y  n  n  n   y   n   y   y   y   n   n      0\n",
      "427  n  y  n  y  y  n  n  n  n   n   n   y   y   y   n   n      0\n",
      "431  n  y  n  y  y  y  n  n  n   n   n   y   y   y   n   n      0\n",
      "\n",
      "[108 rows x 17 columns]), Node(tag=1, identifier=0nny, data=None), Node(tag=f9, identifier=0nnn, data=    f1 f2 f3 f4 f5 f6 f7 f8 f9 f10 f11 f12 f13 f14 f15 f16  Label\n",
      "60   n  n  n  n  y  y  y  n  n   n   n   y   y   y   n   y      1\n",
      "147  n  n  n  n  y  y  y  n  n   n   n   y   n   y   y   y      0\n",
      "188  n  y  n  n  n  y  y  y  y   y   n   n   n   y   n   y      1\n",
      "192  n  n  n  n  n  n  y  y  y   y   n   y   y   y   y   y      1\n",
      "237  y  n  n  n  y  y  y  n  y   n   n   n   n   y   y   n      1\n",
      "383  y  n  n  n  n  y  y  y  y   y   n   n   n   y   y   y      1)]\n"
     ]
    },
    {
     "name": "stdout",
     "output_type": "stream",
     "text": [
      "[Node(tag=1, identifier=0ny, data=None), Node(tag=1, identifier=0nny, data=None), Node(tag=f2, identifier=0yyyy, data=    f1 f2 f3 f4 f5 f6 f7 f8 f9 f10 f11 f12 f13 f14 f15 f16  Label\n",
      "50   n  y  y  y  y  y  n  n  n   y   y   y   y   y   y   y      1\n",
      "162  n  n  y  y  y  y  y  n  n   y   y   y   y   y   n   y      0\n",
      "273  n  y  y  y  y  y  n  n  n   n   y   y   n   y   n   n      1\n",
      "277  y  n  y  y  y  y  y  y  n   y   y   y   n   y   y   y      0\n",
      "284  y  y  y  y  y  y  n  n  n   n   y   y   y   y   n   y      1), Node(tag=f13, identifier=0yyyn, data=    f1 f2 f3 f4 f5 f6 f7 f8 f9 f10 f11 f12 f13 f14 f15 f16  Label\n",
      "81   y  y  n  y  y  y  n  n  n   n   y   y   y   y   n   y      0\n",
      "103  y  y  n  y  y  y  n  n  n   n   y   y   y   y   n   n      0\n",
      "113  n  y  n  y  y  y  n  n  n   n   y   y   y   y   n   y      0\n",
      "125  n  y  n  y  y  y  n  n  n   n   y   y   n   y   n   n      1\n",
      "126  n  y  n  y  y  y  n  n  n   n   y   y   y   y   n   y      0\n",
      "235  n  n  n  y  y  y  n  n  n   n   y   y   y   y   n   n      1\n",
      "256  n  y  n  y  y  y  n  n  n   n   y   y   y   y   n   n      0\n",
      "297  n  y  n  y  y  y  n  n  n   y   y   y   y   y   n   n      0\n",
      "331  y  n  n  y  y  y  n  n  n   n   y   y   y   y   n   n      0\n",
      "356  n  y  n  y  y  y  y  n  n   n   y   y   y   y   n   y      0\n",
      "428  n  n  n  y  y  y  n  n  n   y   y   y   y   y   n   y      0), Node(tag=1, identifier=0yyny, data=None), Node(tag=0, identifier=0yynn, data=None), Node(tag=f3, identifier=0ynyy, data=    f1 f2 f3 f4 f5 f6 f7 f8 f9 f10 f11 f12 f13 f14 f15 f16  Label\n",
      "398  n  y  n  y  y  y  n  n  n   n   n   n   n   y   y   y      1\n",
      "419  n  y  y  y  y  y  y  n  n   n   n   n   y   y   y   y      0), Node(tag=0, identifier=0ynyn, data=None), Node(tag=f7, identifier=0ynny, data=    f1 f2 f3 f4 f5 f6 f7 f8 f9 f10 f11 f12 f13 f14 f15 f16  Label\n",
      "56   n  y  y  y  y  y  n  n  n   y   n   y   y   y   n   y      0\n",
      "117  y  n  y  y  y  y  y  y  n   n   n   n   n   y   n   y      0\n",
      "124  n  n  y  y  y  y  y  y  n   y   n   n   n   y   n   y      0\n",
      "138  n  n  y  y  y  y  y  n  n   n   n   y   y   y   n   y      0\n",
      "145  n  n  y  y  y  y  n  n  y   y   n   y   y   y   n   y      0\n",
      "173  n  y  y  y  y  y  y  n  y   y   n   y   y   y   n   y      0\n",
      "186  y  y  y  y  y  n  y  n  n   n   n   y   y   y   n   y      0\n",
      "359  n  y  y  y  y  y  y  y  y   n   n   y   y   y   n   y      0\n",
      "361  y  y  y  y  y  y  y  y  n   y   n   n   y   y   n   y      0\n",
      "402  n  y  y  y  y  y  n  n  n   y   n   n   n   y   n   y      0\n",
      "404  n  n  y  y  n  y  y  y  y   y   n   y   n   y   n   y      0\n",
      "418  n  y  y  y  y  y  n  n  n   n   n   y   y   y   n   y      1), Node(tag=0, identifier=0ynnn, data=None), Node(tag=1, identifier=0nnny, data=None), Node(tag=f15, identifier=0nnnn, data=    f1 f2 f3 f4 f5 f6 f7 f8 f9 f10 f11 f12 f13 f14 f15 f16  Label\n",
      "60   n  n  n  n  y  y  y  n  n   n   n   y   y   y   n   y      1\n",
      "147  n  n  n  n  y  y  y  n  n   n   n   y   n   y   y   y      0)]\n",
      "[Node(tag=1, identifier=0ny, data=None), Node(tag=1, identifier=0nny, data=None), Node(tag=1, identifier=0yyny, data=None), Node(tag=0, identifier=0yynn, data=None), Node(tag=0, identifier=0ynyn, data=None), Node(tag=0, identifier=0ynnn, data=None), Node(tag=1, identifier=0nnny, data=None), Node(tag=1, identifier=0yyyyy, data=None), Node(tag=0, identifier=0yyyyn, data=None), Node(tag=f2, identifier=0yyyny, data=    f1 f2 f3 f4 f5 f6 f7 f8 f9 f10 f11 f12 f13 f14 f15 f16  Label\n",
      "81   y  y  n  y  y  y  n  n  n   n   y   y   y   y   n   y      0\n",
      "103  y  y  n  y  y  y  n  n  n   n   y   y   y   y   n   n      0\n",
      "113  n  y  n  y  y  y  n  n  n   n   y   y   y   y   n   y      0\n",
      "126  n  y  n  y  y  y  n  n  n   n   y   y   y   y   n   y      0\n",
      "235  n  n  n  y  y  y  n  n  n   n   y   y   y   y   n   n      1\n",
      "256  n  y  n  y  y  y  n  n  n   n   y   y   y   y   n   n      0\n",
      "297  n  y  n  y  y  y  n  n  n   y   y   y   y   y   n   n      0\n",
      "331  y  n  n  y  y  y  n  n  n   n   y   y   y   y   n   n      0\n",
      "356  n  y  n  y  y  y  y  n  n   n   y   y   y   y   n   y      0\n",
      "428  n  n  n  y  y  y  n  n  n   y   y   y   y   y   n   y      0), Node(tag=1, identifier=0yyynn, data=None), Node(tag=0, identifier=0ynyyy, data=None), Node(tag=1, identifier=0ynyyn, data=None), Node(tag=0, identifier=0ynnyy, data=None), Node(tag=f10, identifier=0ynnyn, data=    f1 f2 f3 f4 f5 f6 f7 f8 f9 f10 f11 f12 f13 f14 f15 f16  Label\n",
      "56   n  y  y  y  y  y  n  n  n   y   n   y   y   y   n   y      0\n",
      "145  n  n  y  y  y  y  n  n  y   y   n   y   y   y   n   y      0\n",
      "402  n  y  y  y  y  y  n  n  n   y   n   n   n   y   n   y      0\n",
      "418  n  y  y  y  y  y  n  n  n   n   n   y   y   y   n   y      1), Node(tag=0, identifier=0nnnny, data=None), Node(tag=1, identifier=0nnnnn, data=None)]\n",
      "[Node(tag=1, identifier=0ny, data=None), Node(tag=1, identifier=0nny, data=None), Node(tag=1, identifier=0yyny, data=None), Node(tag=0, identifier=0yynn, data=None), Node(tag=0, identifier=0ynyn, data=None), Node(tag=0, identifier=0ynnn, data=None), Node(tag=1, identifier=0nnny, data=None), Node(tag=1, identifier=0yyyyy, data=None), Node(tag=0, identifier=0yyyyn, data=None), Node(tag=1, identifier=0yyynn, data=None), Node(tag=0, identifier=0ynyyy, data=None), Node(tag=1, identifier=0ynyyn, data=None), Node(tag=0, identifier=0ynnyy, data=None), Node(tag=0, identifier=0nnnny, data=None), Node(tag=1, identifier=0nnnnn, data=None), Node(tag=0, identifier=0yyynyy, data=None), Node(tag=f10, identifier=0yyynyn, data=    f1 f2 f3 f4 f5 f6 f7 f8 f9 f10 f11 f12 f13 f14 f15 f16  Label\n",
      "235  n  n  n  y  y  y  n  n  n   n   y   y   y   y   n   n      1\n",
      "331  y  n  n  y  y  y  n  n  n   n   y   y   y   y   n   n      0\n",
      "428  n  n  n  y  y  y  n  n  n   y   y   y   y   y   n   y      0), Node(tag=0, identifier=0ynnyny, data=None), Node(tag=1, identifier=0ynnynn, data=None)]\n",
      "[Node(tag=1, identifier=0ny, data=None), Node(tag=1, identifier=0nny, data=None), Node(tag=1, identifier=0yyny, data=None), Node(tag=0, identifier=0yynn, data=None), Node(tag=0, identifier=0ynyn, data=None), Node(tag=0, identifier=0ynnn, data=None), Node(tag=1, identifier=0nnny, data=None), Node(tag=1, identifier=0yyyyy, data=None), Node(tag=0, identifier=0yyyyn, data=None), Node(tag=1, identifier=0yyynn, data=None), Node(tag=0, identifier=0ynyyy, data=None), Node(tag=1, identifier=0ynyyn, data=None), Node(tag=0, identifier=0ynnyy, data=None), Node(tag=0, identifier=0nnnny, data=None), Node(tag=1, identifier=0nnnnn, data=None), Node(tag=0, identifier=0yyynyy, data=None), Node(tag=0, identifier=0ynnyny, data=None), Node(tag=1, identifier=0ynnynn, data=None), Node(tag=0, identifier=0yyynyny, data=None), Node(tag=f1, identifier=0yyynynn, data=    f1 f2 f3 f4 f5 f6 f7 f8 f9 f10 f11 f12 f13 f14 f15 f16  Label\n",
      "235  n  n  n  y  y  y  n  n  n   n   y   y   y   y   n   n      1\n",
      "331  y  n  n  y  y  y  n  n  n   n   y   y   y   y   n   n      0)]\n",
      "[Node(tag=1, identifier=0ny, data=None), Node(tag=1, identifier=0nny, data=None), Node(tag=1, identifier=0yyny, data=None), Node(tag=0, identifier=0yynn, data=None), Node(tag=0, identifier=0ynyn, data=None), Node(tag=0, identifier=0ynnn, data=None), Node(tag=1, identifier=0nnny, data=None), Node(tag=1, identifier=0yyyyy, data=None), Node(tag=0, identifier=0yyyyn, data=None), Node(tag=1, identifier=0yyynn, data=None), Node(tag=0, identifier=0ynyyy, data=None), Node(tag=1, identifier=0ynyyn, data=None), Node(tag=0, identifier=0ynnyy, data=None), Node(tag=0, identifier=0nnnny, data=None), Node(tag=1, identifier=0nnnnn, data=None), Node(tag=0, identifier=0yyynyy, data=None), Node(tag=0, identifier=0ynnyny, data=None), Node(tag=1, identifier=0ynnynn, data=None), Node(tag=0, identifier=0yyynyny, data=None), Node(tag=0, identifier=0yyynynny, data=None), Node(tag=1, identifier=0yyynynnn, data=None)]\n"
     ]
    }
   ],
   "source": [
    "T=Fit(train)"
   ]
  },
  {
   "cell_type": "markdown",
   "metadata": {},
   "source": [
    "I had an issue with the index so I reindexed here."
   ]
  },
  {
   "cell_type": "code",
   "execution_count": 107,
   "metadata": {},
   "outputs": [
    {
     "data": {
      "text/html": [
       "<div>\n",
       "<style scoped>\n",
       "    .dataframe tbody tr th:only-of-type {\n",
       "        vertical-align: middle;\n",
       "    }\n",
       "\n",
       "    .dataframe tbody tr th {\n",
       "        vertical-align: top;\n",
       "    }\n",
       "\n",
       "    .dataframe thead th {\n",
       "        text-align: right;\n",
       "    }\n",
       "</style>\n",
       "<table border=\"1\" class=\"dataframe\">\n",
       "  <thead>\n",
       "    <tr style=\"text-align: right;\">\n",
       "      <th></th>\n",
       "      <th>f1</th>\n",
       "      <th>f2</th>\n",
       "      <th>f3</th>\n",
       "      <th>f4</th>\n",
       "      <th>f5</th>\n",
       "      <th>f6</th>\n",
       "      <th>f7</th>\n",
       "      <th>f8</th>\n",
       "      <th>f9</th>\n",
       "      <th>f10</th>\n",
       "      <th>f11</th>\n",
       "      <th>f12</th>\n",
       "      <th>f13</th>\n",
       "      <th>f14</th>\n",
       "      <th>f15</th>\n",
       "      <th>f16</th>\n",
       "      <th>Label</th>\n",
       "    </tr>\n",
       "  </thead>\n",
       "  <tbody>\n",
       "    <tr>\n",
       "      <th>0</th>\n",
       "      <td>y</td>\n",
       "      <td>n</td>\n",
       "      <td>y</td>\n",
       "      <td>n</td>\n",
       "      <td>n</td>\n",
       "      <td>y</td>\n",
       "      <td>y</td>\n",
       "      <td>y</td>\n",
       "      <td>y</td>\n",
       "      <td>y</td>\n",
       "      <td>y</td>\n",
       "      <td>n</td>\n",
       "      <td>n</td>\n",
       "      <td>n</td>\n",
       "      <td>y</td>\n",
       "      <td>y</td>\n",
       "      <td>1</td>\n",
       "    </tr>\n",
       "    <tr>\n",
       "      <th>1</th>\n",
       "      <td>y</td>\n",
       "      <td>y</td>\n",
       "      <td>y</td>\n",
       "      <td>n</td>\n",
       "      <td>n</td>\n",
       "      <td>n</td>\n",
       "      <td>y</td>\n",
       "      <td>y</td>\n",
       "      <td>y</td>\n",
       "      <td>n</td>\n",
       "      <td>n</td>\n",
       "      <td>n</td>\n",
       "      <td>y</td>\n",
       "      <td>n</td>\n",
       "      <td>y</td>\n",
       "      <td>y</td>\n",
       "      <td>1</td>\n",
       "    </tr>\n",
       "    <tr>\n",
       "      <th>2</th>\n",
       "      <td>y</td>\n",
       "      <td>y</td>\n",
       "      <td>y</td>\n",
       "      <td>n</td>\n",
       "      <td>y</td>\n",
       "      <td>y</td>\n",
       "      <td>n</td>\n",
       "      <td>n</td>\n",
       "      <td>n</td>\n",
       "      <td>n</td>\n",
       "      <td>y</td>\n",
       "      <td>n</td>\n",
       "      <td>y</td>\n",
       "      <td>y</td>\n",
       "      <td>n</td>\n",
       "      <td>n</td>\n",
       "      <td>1</td>\n",
       "    </tr>\n",
       "    <tr>\n",
       "      <th>3</th>\n",
       "      <td>y</td>\n",
       "      <td>y</td>\n",
       "      <td>y</td>\n",
       "      <td>n</td>\n",
       "      <td>n</td>\n",
       "      <td>n</td>\n",
       "      <td>y</td>\n",
       "      <td>y</td>\n",
       "      <td>y</td>\n",
       "      <td>n</td>\n",
       "      <td>n</td>\n",
       "      <td>n</td>\n",
       "      <td>n</td>\n",
       "      <td>n</td>\n",
       "      <td>y</td>\n",
       "      <td>y</td>\n",
       "      <td>1</td>\n",
       "    </tr>\n",
       "    <tr>\n",
       "      <th>4</th>\n",
       "      <td>y</td>\n",
       "      <td>y</td>\n",
       "      <td>n</td>\n",
       "      <td>n</td>\n",
       "      <td>n</td>\n",
       "      <td>n</td>\n",
       "      <td>y</td>\n",
       "      <td>y</td>\n",
       "      <td>y</td>\n",
       "      <td>n</td>\n",
       "      <td>y</td>\n",
       "      <td>n</td>\n",
       "      <td>n</td>\n",
       "      <td>n</td>\n",
       "      <td>y</td>\n",
       "      <td>y</td>\n",
       "      <td>1</td>\n",
       "    </tr>\n",
       "  </tbody>\n",
       "</table>\n",
       "</div>"
      ],
      "text/plain": [
       "  f1 f2 f3 f4 f5 f6 f7 f8 f9 f10 f11 f12 f13 f14 f15 f16  Label\n",
       "0  y  n  y  n  n  y  y  y  y   y   y   n   n   n   y   y      1\n",
       "1  y  y  y  n  n  n  y  y  y   n   n   n   y   n   y   y      1\n",
       "2  y  y  y  n  y  y  n  n  n   n   y   n   y   y   n   n      1\n",
       "3  y  y  y  n  n  n  y  y  y   n   n   n   n   n   y   y      1\n",
       "4  y  y  n  n  n  n  y  y  y   n   y   n   n   n   y   y      1"
      ]
     },
     "execution_count": 107,
     "metadata": {},
     "output_type": "execute_result"
    }
   ],
   "source": [
    "test=test.reset_index()\n",
    "test=test.drop([\"index\"], axis=1)\n",
    "test=test.drop([\"level_0\"], axis=1)\n",
    "test.head()"
   ]
  },
  {
   "cell_type": "markdown",
   "metadata": {},
   "source": [
    "### Predict the test data\n",
    "\n",
    "My evaluate function iteratively builds the identifier for the leaf node that contains the predicted label for a particular observation."
   ]
  },
  {
   "cell_type": "code",
   "execution_count": 111,
   "metadata": {},
   "outputs": [],
   "source": [
    "def evaluate(tree, df, rowIndex):\n",
    "    id=\"0\"\n",
    "    while type(tree.get_node(id).tag)==type(\"aa\"):\n",
    "        id=id+df.iloc[rowIndex][tree.get_node(id).tag]\n",
    "    \n",
    "    return tree.get_node(id).tag"
   ]
  },
  {
   "cell_type": "code",
   "execution_count": 112,
   "metadata": {},
   "outputs": [],
   "source": [
    "def Predict(tree, df):\n",
    "    predList=[]\n",
    "    for rowIndex in df.index:\n",
    "        predList.append(evaluate(tree, df, rowIndex))    \n",
    "    return np.array(predList)"
   ]
  },
  {
   "cell_type": "code",
   "execution_count": 114,
   "metadata": {},
   "outputs": [],
   "source": [
    "y_pred=Predict(T, test)"
   ]
  },
  {
   "cell_type": "code",
   "execution_count": 116,
   "metadata": {},
   "outputs": [],
   "source": [
    "y_test=test[\"Label\"].to_numpy()"
   ]
  },
  {
   "cell_type": "markdown",
   "metadata": {},
   "source": [
    "## Accuracy"
   ]
  },
  {
   "cell_type": "code",
   "execution_count": 117,
   "metadata": {},
   "outputs": [
    {
     "data": {
      "text/plain": [
       "0.926605504587156"
      ]
     },
     "execution_count": 117,
     "metadata": {},
     "output_type": "execute_result"
    }
   ],
   "source": [
    "(y_pred==y_test).sum()/len(y_test)"
   ]
  },
  {
   "cell_type": "code",
   "execution_count": null,
   "metadata": {},
   "outputs": [],
   "source": []
  }
 ],
 "metadata": {
  "kernelspec": {
   "display_name": "Python 3",
   "language": "python",
   "name": "python3"
  },
  "language_info": {
   "codemirror_mode": {
    "name": "ipython",
    "version": 3
   },
   "file_extension": ".py",
   "mimetype": "text/x-python",
   "name": "python",
   "nbconvert_exporter": "python",
   "pygments_lexer": "ipython3",
   "version": "3.8.3"
  }
 },
 "nbformat": 4,
 "nbformat_minor": 4
}
